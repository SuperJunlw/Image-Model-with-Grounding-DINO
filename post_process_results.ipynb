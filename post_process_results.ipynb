{
 "cells": [
  {
   "cell_type": "code",
   "execution_count": 1,
   "id": "90e1d902",
   "metadata": {},
   "outputs": [],
   "source": [
    "import json"
   ]
  },
  {
   "cell_type": "code",
   "execution_count": 3,
   "id": "88774b92",
   "metadata": {},
   "outputs": [],
   "source": [
    "results = open(\"results.json\")\n",
    "results = json.load(results)\n",
    "for result in results:\n",
    "    bbox_result = result[\"bbox\"]\n",
    "    width = bbox_result[2] - bbox_result[0]\n",
    "    height = bbox_result[3] - bbox_result[1]\n",
    "    result[\"bbox\"][2] = round(width,2)\n",
    "    result[\"bbox\"][3] = round(height,2)\n",
    "results = json.dumps(results)\n",
    "with open(\"processed_results.json\", \"w\") as f:\n",
    "  f.write(results)"
   ]
  }
 ],
 "metadata": {
  "kernelspec": {
   "display_name": "base",
   "language": "python",
   "name": "python3"
  },
  "language_info": {
   "codemirror_mode": {
    "name": "ipython",
    "version": 3
   },
   "file_extension": ".py",
   "mimetype": "text/x-python",
   "name": "python",
   "nbconvert_exporter": "python",
   "pygments_lexer": "ipython3",
   "version": "3.13.2"
  }
 },
 "nbformat": 4,
 "nbformat_minor": 5
}
