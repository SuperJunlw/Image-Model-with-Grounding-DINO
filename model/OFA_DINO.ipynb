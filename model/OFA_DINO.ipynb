{
 "cells": [
  {
   "cell_type": "markdown",
   "id": "289b4a53",
   "metadata": {},
   "source": [
    "Make sure the transformer version is up to data"
   ]
  },
  {
   "cell_type": "code",
   "execution_count": 1,
   "id": "d0fcfa1b",
   "metadata": {},
   "outputs": [
    {
     "name": "stderr",
     "output_type": "stream",
     "text": [
      "/Library/Frameworks/Python.framework/Versions/3.12/lib/python3.12/site-packages/tqdm/auto.py:21: TqdmWarning: IProgress not found. Please update jupyter and ipywidgets. See https://ipywidgets.readthedocs.io/en/stable/user_install.html\n",
      "  from .autonotebook import tqdm as notebook_tqdm\n"
     ]
    }
   ],
   "source": [
    "import requests\n",
    "\n",
    "import torch\n",
    "from PIL import Image\n",
    "from transformers import AutoProcessor, AutoModelForZeroShotObjectDetection, AutoModelForCausalLM\n"
   ]
  },
  {
   "cell_type": "code",
   "execution_count": 8,
   "id": "a9e18611",
   "metadata": {},
   "outputs": [],
   "source": [
    "if torch.cuda.is_available():\n",
    "    device = \"cuda\"\n",
    "elif torch.backends.mps.is_available():\n",
    "    device = \"mps\"\n",
    "else:\n",
    "    device = \"cpu\""
   ]
  },
  {
   "cell_type": "markdown",
   "id": "0b3a5486",
   "metadata": {},
   "source": [
    "## For testing "
   ]
  },
  {
   "cell_type": "code",
   "execution_count": 12,
   "id": "f7a5ba37",
   "metadata": {},
   "outputs": [
    {
     "name": "stdout",
     "output_type": "stream",
     "text": [
      "Detected orange cat with confidence 0.536 at location [345.46, 23.5, 637.62, 373.86]\n"
     ]
    }
   ],
   "source": [
    "# load the caption from the txt file\n",
    "with open(\"OFA_output.txt\", \"r\") as f:\n",
    "    caption = f.read().strip()\n",
    "\n",
    "\n",
    "# DINO\n",
    "dino_processor = AutoProcessor.from_pretrained(\"IDEA-Research/grounding-dino-tiny\")\n",
    "dino_model = AutoModelForZeroShotObjectDetection.from_pretrained(\"IDEA-Research/grounding-dino-tiny\") # .to(device)\n",
    "\n",
    "image_path = \"http://images.cocodataset.org/val2017/000000039769.jpg\"\n",
    "image = Image.open(requests.get(image_path, stream=True).raw)\n",
    "text_labels = [[caption, \"null\"]]\n",
    "\n",
    "# Use OFA caption as input to DINO\n",
    "dino_inputs = dino_processor(images=image, text=text_labels, return_tensors=\"pt\") #.to(device)\n",
    "with torch.no_grad():\n",
    "    dino_outputs = dino_model(**dino_inputs)\n",
    "\n",
    "# Post-process and display results =\n",
    "results = dino_processor.post_process_grounded_object_detection(\n",
    "    dino_outputs,\n",
    "    dino_inputs.input_ids,\n",
    "    box_threshold=0.4,\n",
    "    text_threshold=0.3,\n",
    "    target_sizes=[image.size[::-1]]\n",
    ")\n",
    "result = results[0]\n",
    "for box, score, labels in zip(result[\"boxes\"], result[\"scores\"], result[\"text_labels\"]):\n",
    "    box = [round(x, 2) for x in box.tolist()]\n",
    "    print(f\"Detected {labels} with confidence {round(score.item(), 3)} at location {box}\")"
   ]
  },
  {
   "cell_type": "markdown",
   "id": "a205322e",
   "metadata": {},
   "source": [
    "## COCO Evalution"
   ]
  },
  {
   "cell_type": "code",
   "execution_count": 3,
   "id": "81f2662e",
   "metadata": {},
   "outputs": [],
   "source": [
    "import json\n",
    "\n",
    "# DINO\n",
    "dino_processor = AutoProcessor.from_pretrained(\"IDEA-Research/grounding-dino-tiny\")\n",
    "dino_model = AutoModelForZeroShotObjectDetection.from_pretrained(\"IDEA-Research/grounding-dino-tiny\") # .to(device)\n",
    "\n",
    "with open(\"OFA_output.txt\", \"r\") as f:\n",
    "    lines = f.readlines()\n",
    "full_results = []\n",
    "for idx, line in enumerate(lines):\n",
    "    try:\n",
    "        # Split line: \n",
    "        parts = line.strip().split(\" || \")\n",
    "        image_path, caption = parts[0], parts[1]\n",
    "        image_id = int(parts[2])\n",
    "        category_id = int(parts[3])\n",
    "\n",
    "        image = Image.open(requests.get(image_path, stream=True).raw)\n",
    "        image = image.convert('RGB')\n",
    "\n",
    "        text_labels = [[caption, \"null\"]]\n",
    "\n",
    "        # Process with DINO\n",
    "        dino_inputs = dino_processor(images=image, text=text_labels, return_tensors=\"pt\") # .to(device)\n",
    "        with torch.no_grad():\n",
    "            dino_outputs = dino_model(**dino_inputs)\n",
    "\n",
    "        # Post-process\n",
    "        results = dino_processor.post_process_grounded_object_detection(\n",
    "            dino_outputs,\n",
    "            dino_inputs.input_ids,\n",
    "            box_threshold=0.4,\n",
    "            text_threshold=0.3,\n",
    "            target_sizes=[image.size[::-1]]\n",
    "        )\n",
    "\n",
    "        #result = results[0]\n",
    "\n",
    "        # Retrieve the first image result\n",
    "        \n",
    "        for result in results:\n",
    "            for box, score, labels in zip(result[\"boxes\"], result[\"scores\"], result[\"text_labels\"]):\n",
    "                box = [round(x, 2) for x in box.tolist()]\n",
    "                formatted_results = {\n",
    "                    \"image_id\": image_id,\n",
    "                    \"category_id\": category_id,\n",
    "                    \"bbox\": box,\n",
    "                    \"score\": round(score.item(), 3)\n",
    "                }\n",
    "                # if x%10 == 0:\n",
    "                #     print(str(x) + \" out of \" + str(len(image_url)))\n",
    "                full_results.append(formatted_results)\n",
    "\n",
    "    except Exception as e:\n",
    "        print(f\"[{idx}] Error processing line: {line.strip()}\")\n",
    "        print(e)\n",
    "\n",
    "full_results = json.dumps(full_results)"
   ]
  },
  {
   "cell_type": "code",
   "execution_count": 4,
   "id": "69eb92e5",
   "metadata": {},
   "outputs": [],
   "source": [
    "with open(\"OFA_results.json\", \"w\") as f:\n",
    "  f.write(full_results)"
   ]
  },
  {
   "cell_type": "markdown",
   "id": "205a8212",
   "metadata": {},
   "source": [
    "## Processing the result"
   ]
  },
  {
   "cell_type": "code",
   "execution_count": 5,
   "id": "d1d508ef",
   "metadata": {},
   "outputs": [],
   "source": [
    "results = open(\"OFA_results.json\")\n",
    "results = json.load(results)\n",
    "for result in results:\n",
    "    bbox_result = result[\"bbox\"]\n",
    "    width = bbox_result[2] - bbox_result[0]\n",
    "    height = bbox_result[3] - bbox_result[1]\n",
    "    result[\"bbox\"][2] = round(width,2)\n",
    "    result[\"bbox\"][3] = round(height,2)\n",
    "results = json.dumps(results)\n",
    "with open(\"OFA_processed_results.json\", \"w\") as f:\n",
    "  f.write(results)"
   ]
  }
 ],
 "metadata": {
  "kernelspec": {
   "display_name": "Python 3",
   "language": "python",
   "name": "python3"
  },
  "language_info": {
   "codemirror_mode": {
    "name": "ipython",
    "version": 3
   },
   "file_extension": ".py",
   "mimetype": "text/x-python",
   "name": "python",
   "nbconvert_exporter": "python",
   "pygments_lexer": "ipython3",
   "version": "3.12.3"
  }
 },
 "nbformat": 4,
 "nbformat_minor": 5
}
