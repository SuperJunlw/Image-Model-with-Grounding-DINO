{
 "cells": [
  {
   "cell_type": "markdown",
   "id": "289b4a53",
   "metadata": {},
   "source": [
    "Make sure the transformer version is up to data"
   ]
  },
  {
   "cell_type": "code",
   "execution_count": 1,
   "id": "d0fcfa1b",
   "metadata": {},
   "outputs": [
    {
     "name": "stderr",
     "output_type": "stream",
     "text": [
      "/Library/Frameworks/Python.framework/Versions/3.12/lib/python3.12/site-packages/tqdm/auto.py:21: TqdmWarning: IProgress not found. Please update jupyter and ipywidgets. See https://ipywidgets.readthedocs.io/en/stable/user_install.html\n",
      "  from .autonotebook import tqdm as notebook_tqdm\n"
     ]
    }
   ],
   "source": [
    "import requests\n",
    "\n",
    "import torch\n",
    "from PIL import Image\n",
    "from transformers import AutoProcessor, AutoModelForZeroShotObjectDetection, AutoModelForCausalLM\n"
   ]
  },
  {
   "cell_type": "code",
   "execution_count": 4,
   "id": "f7a5ba37",
   "metadata": {},
   "outputs": [
    {
     "name": "stdout",
     "output_type": "stream",
     "text": [
      "Detected clock with confidence 0.581 at location [121.48, 26.56, 490.35, 388.6]\n"
     ]
    },
    {
     "name": "stderr",
     "output_type": "stream",
     "text": [
      "/Library/Frameworks/Python.framework/Versions/3.12/lib/python3.12/site-packages/transformers/models/grounding_dino/processing_grounding_dino.py:95: FutureWarning: The key `labels` is will return integer ids in `GroundingDinoProcessor.post_process_grounded_object_detection` output since v4.51.0. Use `text_labels` instead to retrieve string object names.\n",
      "  warnings.warn(self.message, FutureWarning)\n"
     ]
    }
   ],
   "source": [
    "# load the caption from the txt file\n",
    "with open(\"OFA_output.txt\", \"r\") as f:\n",
    "    caption = f.read()\n",
    "\n",
    "\n",
    "# DINO\n",
    "dino_processor = AutoProcessor.from_pretrained(\"IDEA-Research/grounding-dino-tiny\")\n",
    "dino_model = AutoModelForZeroShotObjectDetection.from_pretrained(\"IDEA-Research/grounding-dino-tiny\")\n",
    "\n",
    "image_path = \"/Users/junwu/Documents/ECS270/Project/Image-Model-with-Grounding-DINO/input-data/clock.jpg\"\n",
    "image = Image.open(image_path)\n",
    "\n",
    "# Use OFA caption as input to DINO\n",
    "dino_inputs = dino_processor(images=image, text=caption, return_tensors=\"pt\")\n",
    "with torch.no_grad():\n",
    "    dino_outputs = dino_model(**dino_inputs)\n",
    "\n",
    "# Post-process and display results =\n",
    "results = dino_processor.post_process_grounded_object_detection(\n",
    "    dino_outputs,\n",
    "    dino_inputs.input_ids,\n",
    "    box_threshold=0.4,\n",
    "    text_threshold=0.3,\n",
    "    target_sizes=[image.size[::-1]]\n",
    ")\n",
    "\n",
    "for box, score, label in zip(results[0][\"boxes\"], results[0][\"scores\"], results[0][\"labels\"]):\n",
    "    box = [round(x, 2) for x in box.tolist()]\n",
    "    print(f\"Detected {label} with confidence {round(score.item(), 3)} at location {box}\")"
   ]
  }
 ],
 "metadata": {
  "kernelspec": {
   "display_name": "Python 3",
   "language": "python",
   "name": "python3"
  },
  "language_info": {
   "codemirror_mode": {
    "name": "ipython",
    "version": 3
   },
   "file_extension": ".py",
   "mimetype": "text/x-python",
   "name": "python",
   "nbconvert_exporter": "python",
   "pygments_lexer": "ipython3",
   "version": "3.12.3"
  }
 },
 "nbformat": 4,
 "nbformat_minor": 5
}
