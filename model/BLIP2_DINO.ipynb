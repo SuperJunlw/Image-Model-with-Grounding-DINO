{
 "cells": [
  {
   "cell_type": "code",
   "execution_count": null,
   "id": "2c23cf28",
   "metadata": {},
   "outputs": [],
   "source": [
    "# Dependencies\n",
    "# pip3 install transformers\n",
    "# pip3 install accelerate\n",
    "# pip3 install -U bitsandbytes"
   ]
  },
  {
   "cell_type": "code",
   "execution_count": 2,
   "id": "f529c9c8",
   "metadata": {},
   "outputs": [
    {
     "name": "stderr",
     "output_type": "stream",
     "text": [
      "/Library/Frameworks/Python.framework/Versions/3.12/lib/python3.12/site-packages/tqdm/auto.py:21: TqdmWarning: IProgress not found. Please update jupyter and ipywidgets. See https://ipywidgets.readthedocs.io/en/stable/user_install.html\n",
      "  from .autonotebook import tqdm as notebook_tqdm\n"
     ]
    }
   ],
   "source": [
    "from transformers import Blip2Processor, Blip2ForConditionalGeneration\n",
    "from PIL import Image\n",
    "import torch"
   ]
  },
  {
   "cell_type": "code",
   "execution_count": 4,
   "id": "7a1fad80",
   "metadata": {},
   "outputs": [
    {
     "name": "stderr",
     "output_type": "stream",
     "text": [
      "Loading checkpoint shards: 100%|██████████| 2/2 [00:00<00:00,  7.34it/s]\n"
     ]
    },
    {
     "name": "stdout",
     "output_type": "stream",
     "text": [
      "a\n"
     ]
    }
   ],
   "source": [
    "# Load BLIP2\n",
    "\n",
    "# Load BLIP-2 processor and model (pretrained on captions)\n",
    "# Using 2.7B variant of BLIP2 (smallest), can use other variants\n",
    "\n",
    "device = \"cpu\"\n",
    "\n",
    "processor = Blip2Processor.from_pretrained(\"Salesforce/blip2-opt-2.7b\")\n",
    "model = Blip2ForConditionalGeneration.from_pretrained(\n",
    "    \"Salesforce/blip2-opt-2.7b\", \n",
    "    #load_in_8bit=True, # need bitsandbytes package\n",
    "   # device_map={\"\": 0}, \n",
    "   # torch_dtype=torch.float16\n",
    ")  \n",
    "#model.to(device)\n",
    "\n",
    "# Load image\n",
    "image = Image.open(\"/Users/junwu/Documents/ECS270/Project/Image-Model-with-Grounding-DINO/input-data/banana.jpg\").convert(\"RGB\")\n",
    "\n",
    "inputs = processor(images=image, return_tensors=\"pt\")\n",
    "#inputs = {k: v.to(device) for k, v in inputs.items()}\n",
    "\n",
    "generated_ids = model.generate(**inputs, max_new_tokens=50)\n",
    "generated_text = processor.batch_decode(generated_ids, skip_special_tokens=True)[0].strip()\n",
    "print(generated_text)\n"
   ]
  }
 ],
 "metadata": {
  "kernelspec": {
   "display_name": "Python 3",
   "language": "python",
   "name": "python3"
  },
  "language_info": {
   "codemirror_mode": {
    "name": "ipython",
    "version": 3
   },
   "file_extension": ".py",
   "mimetype": "text/x-python",
   "name": "python",
   "nbconvert_exporter": "python",
   "pygments_lexer": "ipython3",
   "version": "3.12.3"
  }
 },
 "nbformat": 4,
 "nbformat_minor": 5
}
