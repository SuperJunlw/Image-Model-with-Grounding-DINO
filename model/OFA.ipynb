{
 "cells": [
  {
   "cell_type": "markdown",
   "id": "3686cdbb",
   "metadata": {},
   "source": [
    "pip install transformers torchvision pillow\n",
    "\n",
    "need to clone the OFA and OFA-base from github:\n",
    "git clone --single-branch --branch feature/add_transformers https://github.com/OFA-Sys/OFA.git\n",
    "pip install OFA/transformers/\n",
    "git clone https://huggingface.co/OFA-Sys/OFA-base \n",
    "\n",
    "Also, might need to install git-lfs\n",
    "Then in the cloned OFA-base folder:\n",
    "git lfs install\n",
    "git lfs pull\n"
   ]
  },
  {
   "cell_type": "code",
   "execution_count": 1,
   "id": "ab53c13c",
   "metadata": {},
   "outputs": [
    {
     "name": "stderr",
     "output_type": "stream",
     "text": [
      "/Library/Frameworks/Python.framework/Versions/3.12/lib/python3.12/site-packages/tqdm/auto.py:21: TqdmWarning: IProgress not found. Please update jupyter and ipywidgets. See https://ipywidgets.readthedocs.io/en/stable/user_install.html\n",
      "  from .autonotebook import tqdm as notebook_tqdm\n"
     ]
    }
   ],
   "source": [
    "import torch\n",
    "from PIL import Image\n",
    "from torchvision import transforms\n",
    "from transformers import OFATokenizer, OFAModel # OFAModel only works in older version of transformers (from pip install OFA/transformers/)"
   ]
  },
  {
   "cell_type": "code",
   "execution_count": 5,
   "id": "ae027d5a",
   "metadata": {},
   "outputs": [
    {
     "name": "stdout",
     "output_type": "stream",
     "text": [
      "/Users/junwu/Documents/ECS270/Project/Image-Model-with-Grounding-DINO/OFA-base\n",
      "<super: <class 'OFATokenizer'>, <OFATokenizer object>>\n",
      "Generated caption:  wall clock on a white background\n"
     ]
    }
   ],
   "source": [
    "ckpt_dir = \"/Users/junwu/Documents/ECS270/Project/Image-Model-with-Grounding-DINO/OFA-base\"  # path to local OFA-base directory\n",
    "tokenizer = OFATokenizer.from_pretrained(ckpt_dir)\n",
    "model = OFAModel.from_pretrained(ckpt_dir)\n",
    "model.eval()\n",
    "\n",
    "# Image preprocessing \n",
    "resolution = 384\n",
    "mean, std = [0.5] * 3, [0.5] * 3\n",
    "transform = transforms.Compose([\n",
    "    lambda image: image.convert(\"RGB\"),\n",
    "    transforms.Resize((resolution, resolution), interpolation=Image.BICUBIC),\n",
    "    transforms.ToTensor(),\n",
    "    transforms.Normalize(mean=mean, std=std),\n",
    "])\n",
    "\n",
    "#  Load and process image \n",
    "image = Image.open(\"/Users/junwu/Documents/ECS270/Project/Image-Model-with-Grounding-DINO/input-data/clock.jpg\")  \n",
    "patch_img = transform(image).unsqueeze(0)  # shape: (1, 3, H, W)\n",
    "\n",
    "# Prepare text prompt \n",
    "question = \" what does the image describe?\"\n",
    "inputs = tokenizer(question, return_tensors=\"pt\").input_ids\n",
    "\n",
    "# Generate caption \n",
    "outputs = model.generate(\n",
    "    input_ids=inputs,\n",
    "    patch_images=patch_img,\n",
    "    patch_masks=torch.tensor([True]),\n",
    "    num_beams=5,\n",
    "    max_length=30,\n",
    "    no_repeat_ngram_size=3,\n",
    ")\n",
    "\n",
    "# Decode and print result \n",
    "caption = tokenizer.batch_decode(outputs, skip_special_tokens=True)\n",
    "print(\"Generated caption:\", caption[0])\n",
    "\n",
    "caption = tokenizer.batch_decode(outputs, skip_special_tokens=True)[0]\n",
    "with open(\"OFA_output.txt\", \"w\") as f:\n",
    "    f.write(caption)"
   ]
  }
 ],
 "metadata": {
  "kernelspec": {
   "display_name": "Python 3",
   "language": "python",
   "name": "python3"
  },
  "language_info": {
   "codemirror_mode": {
    "name": "ipython",
    "version": 3
   },
   "file_extension": ".py",
   "mimetype": "text/x-python",
   "name": "python",
   "nbconvert_exporter": "python",
   "pygments_lexer": "ipython3",
   "version": "3.12.3"
  }
 },
 "nbformat": 4,
 "nbformat_minor": 5
}
