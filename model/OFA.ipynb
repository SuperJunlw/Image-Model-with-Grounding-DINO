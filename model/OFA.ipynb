{
 "cells": [
  {
   "cell_type": "markdown",
   "id": "3686cdbb",
   "metadata": {},
   "source": [
    "pip install transformers torchvision pillow\n",
    "\n",
    "need to clone the OFA and OFA-base from github:\n",
    "git clone --single-branch --branch feature/add_transformers https://github.com/OFA-Sys/OFA.git\n",
    "pip install OFA/transformers/\n",
    "git clone https://huggingface.co/OFA-Sys/OFA-tiny \n",
    "\n",
    "Also, might need to install git-lfs\n",
    "Then in the cloned OFA-base folder:\n",
    "git lfs install\n",
    "git lfs pull\n"
   ]
  },
  {
   "cell_type": "code",
   "execution_count": 1,
   "id": "ab53c13c",
   "metadata": {},
   "outputs": [
    {
     "name": "stderr",
     "output_type": "stream",
     "text": [
      "/Library/Frameworks/Python.framework/Versions/3.12/lib/python3.12/site-packages/tqdm/auto.py:21: TqdmWarning: IProgress not found. Please update jupyter and ipywidgets. See https://ipywidgets.readthedocs.io/en/stable/user_install.html\n",
      "  from .autonotebook import tqdm as notebook_tqdm\n"
     ]
    }
   ],
   "source": [
    "import torch\n",
    "from PIL import Image\n",
    "from torchvision import transforms\n",
    "from transformers import OFATokenizer, OFAModel # OFAModel only works in older version of transformers (from pip install OFA/transformers/)"
   ]
  },
  {
   "cell_type": "code",
   "execution_count": 2,
   "id": "f9a7de6f",
   "metadata": {},
   "outputs": [],
   "source": [
    "if torch.cuda.is_available():\n",
    "    device = \"cuda\"\n",
    "elif torch.backends.mps.is_available():\n",
    "    device = \"mps\"\n",
    "else:\n",
    "    device = \"cpu\""
   ]
  },
  {
   "cell_type": "code",
   "execution_count": 2,
   "id": "ae027d5a",
   "metadata": {},
   "outputs": [
    {
     "name": "stdout",
     "output_type": "stream",
     "text": [
      "/Users/junwu/Documents/ECS270/Project/Image-Model-with-Grounding-DINO/OFA-tiny\n",
      "<super: <class 'OFATokenizer'>, <OFATokenizer object>>\n"
     ]
    },
    {
     "name": "stderr",
     "output_type": "stream",
     "text": [
      "/Library/Frameworks/Python.framework/Versions/3.12/lib/python3.12/site-packages/torch/functional.py:554: UserWarning: torch.meshgrid: in an upcoming release, it will be required to pass the indexing argument. (Triggered internally at /Users/runner/work/pytorch/pytorch/pytorch/aten/src/ATen/native/TensorShape.cpp:4316.)\n",
      "  return _VF.meshgrid(tensors, **kwargs)  # type: ignore[attr-defined]\n"
     ]
    },
    {
     "name": "stdout",
     "output_type": "stream",
     "text": [
      "Generated caption:  a white wall with a clock on it\n"
     ]
    }
   ],
   "source": [
    "ckpt_dir = \"/Users/junwu/Documents/ECS270/Project/Image-Model-with-Grounding-DINO/OFA-tiny\"  # path to local OFA-base directory\n",
    "tokenizer = OFATokenizer.from_pretrained(ckpt_dir)\n",
    "model = OFAModel.from_pretrained(ckpt_dir) # .to(device)\n",
    "model.eval()\n",
    "\n",
    "# Image preprocessing \n",
    "resolution = 384\n",
    "mean, std = [0.5] * 3, [0.5] * 3\n",
    "transform = transforms.Compose([\n",
    "    lambda image: image.convert(\"RGB\"),\n",
    "    transforms.Resize((resolution, resolution), interpolation=Image.BICUBIC),\n",
    "    transforms.ToTensor(),\n",
    "    transforms.Normalize(mean=mean, std=std),\n",
    "])\n",
    "\n",
    "#  Load and process image \n",
    "image = Image.open(\"/Users/junwu/Documents/ECS270/Project/Image-Model-with-Grounding-DINO/input-data/clock.jpg\")  \n",
    "patch_img = transform(image).unsqueeze(0)  # shape: (1, 3, H, W)\n",
    "\n",
    "# Prepare text prompt \n",
    "question = \" what does the image describe?\"\n",
    "inputs = tokenizer(question, return_tensors=\"pt\").input_ids\n",
    "\n",
    "# Generate caption \n",
    "outputs = model.generate(\n",
    "    input_ids=inputs,\n",
    "    patch_images=patch_img,\n",
    "    patch_masks=torch.tensor([True]),\n",
    "    num_beams=5,\n",
    "    max_length=50,\n",
    "    no_repeat_ngram_size=3,\n",
    ")\n",
    "\n",
    "# Decode and print result \n",
    "caption = tokenizer.batch_decode(outputs, skip_special_tokens=True)\n",
    "print(\"Generated caption:\", caption[0])\n",
    "\n",
    "caption = tokenizer.batch_decode(outputs, skip_special_tokens=True)[0]\n",
    "with open(\"OFA_output.txt\", \"w\") as f:\n",
    "    f.write(caption)"
   ]
  },
  {
   "cell_type": "markdown",
   "id": "4a8191c4",
   "metadata": {},
   "source": [
    "## COCO Evaluation"
   ]
  },
  {
   "cell_type": "code",
   "execution_count": 2,
   "id": "3dfca9cc",
   "metadata": {},
   "outputs": [],
   "source": [
    "import json\n",
    "\n",
    "coco_dataset = open(\"../instances_val2017.json\")\n",
    "coco_json = json.load(coco_dataset)\n",
    "coco_images = coco_json[\"images\"]\n",
    "coco_annotations = coco_json[\"annotations\"]\n",
    "coco_categories = coco_json[\"categories\"]\n",
    "input_url = []\n",
    "image_url = []\n",
    "for anno in coco_annotations:\n",
    "    for images in coco_images:\n",
    "        if anno[\"image_id\"] == images[\"id\"]:\n",
    "            image_url.append(images[\"coco_url\"])\n",
    "            break\n",
    "    for categories in coco_categories:\n",
    "        if anno[\"category_id\"] == categories[\"id\"]:\n",
    "            input_url.append(\"../input-data/\" + categories[\"name\"] + \".jpg\")\n",
    "            break"
   ]
  },
  {
   "cell_type": "code",
   "execution_count": 3,
   "id": "439996af",
   "metadata": {},
   "outputs": [
    {
     "name": "stdout",
     "output_type": "stream",
     "text": [
      "36781\n",
      "36781\n"
     ]
    }
   ],
   "source": [
    "print(len(input_url))\n",
    "print(len(image_url))"
   ]
  },
  {
   "cell_type": "code",
   "execution_count": 5,
   "id": "0b0ce19a",
   "metadata": {},
   "outputs": [
    {
     "name": "stdout",
     "output_type": "stream",
     "text": [
      "/Users/junwu/Documents/ECS270/Project/Image-Model-with-Grounding-DINO/OFA-tiny\n",
      "<super: <class 'OFATokenizer'>, <OFATokenizer object>>\n"
     ]
    }
   ],
   "source": [
    "ckpt_dir = \"/Users/junwu/Documents/ECS270/Project/Image-Model-with-Grounding-DINO/OFA-tiny\"  # path to local OFA-base directory\n",
    "tokenizer = OFATokenizer.from_pretrained(ckpt_dir)\n",
    "model = OFAModel.from_pretrained(ckpt_dir) # add .to(devide)\n",
    "model.eval()\n",
    "\n",
    "open(\"OFA_output.txt\", \"w\").close() # clear the text file\n",
    "\n",
    "# Image preprocessing \n",
    "resolution = 384\n",
    "mean, std = [0.5] * 3, [0.5] * 3\n",
    "transform = transforms.Compose([\n",
    "    lambda image: image.convert(\"RGB\"),\n",
    "    transforms.Resize((resolution, resolution), interpolation=Image.BICUBIC),\n",
    "    transforms.ToTensor(),\n",
    "    transforms.Normalize(mean=mean, std=std),\n",
    "])\n",
    "\n",
    "full_results = []\n",
    "for x in range(10000): # len(input_url)\n",
    "    #  Load and process image \n",
    "    image = Image.open(input_url[x])  \n",
    "    patch_img = transform(image).unsqueeze(0)  # shape: (1, 3, H, W)\n",
    "\n",
    "    # Prepare text prompt \n",
    "    question = \" what does the image describe?\"\n",
    "    inputs = tokenizer(question, return_tensors=\"pt\").input_ids\n",
    "\n",
    "    # Generate caption \n",
    "    outputs = model.generate(\n",
    "        input_ids=inputs,\n",
    "        patch_images=patch_img,\n",
    "        patch_masks=torch.tensor([True]),\n",
    "        num_beams=5,\n",
    "        max_length=50,\n",
    "        no_repeat_ngram_size=3,\n",
    "    )\n",
    "\n",
    "    # Decode and print result \n",
    "    caption = tokenizer.batch_decode(outputs, skip_special_tokens=True)[0]\n",
    "    #print(\"Generated caption:\", caption)\n",
    "\n",
    "    image_id = coco_annotations[x][\"image_id\"]\n",
    "    category_id = coco_annotations[x][\"category_id\"]\n",
    "\n",
    "    with open(\"OFA_output.txt\", \"a\") as f:\n",
    "         f.write(f\"{image_url[x]} || {caption} || {image_id} || {category_id}\\n\")"
   ]
  }
 ],
 "metadata": {
  "kernelspec": {
   "display_name": "Python 3",
   "language": "python",
   "name": "python3"
  },
  "language_info": {
   "codemirror_mode": {
    "name": "ipython",
    "version": 3
   },
   "file_extension": ".py",
   "mimetype": "text/x-python",
   "name": "python",
   "nbconvert_exporter": "python",
   "pygments_lexer": "ipython3",
   "version": "3.12.3"
  }
 },
 "nbformat": 4,
 "nbformat_minor": 5
}
