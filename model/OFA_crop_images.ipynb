{
 "cells": [
  {
   "cell_type": "code",
   "execution_count": null,
   "id": "d9bc3541",
   "metadata": {},
   "outputs": [],
   "source": [
    "\n",
    "from PIL import Image\n",
    "import matplotlib.pyplot as plt\n",
    "import torch\n",
    "import json\n",
    "import requests\n",
    "import os\n",
    "import torch\n",
    "from torchvision import transforms\n",
    "from transformers import OFATokenizer, OFAModel"
   ]
  },
  {
   "cell_type": "code",
   "execution_count": null,
   "id": "c5ed1d1a",
   "metadata": {},
   "outputs": [],
   "source": [
    "if torch.cuda.is_available():\n",
    "    device = \"cuda\"\n",
    "elif torch.backends.mps.is_available():\n",
    "    device = \"mps\"\n",
    "else:\n",
    "    device = \"cpu\""
   ]
  },
  {
   "cell_type": "code",
   "execution_count": null,
   "id": "e9f114ae",
   "metadata": {},
   "outputs": [],
   "source": [
    "ckpt_dir = \"/Users/junwu/Documents/ECS270/Project/Image-Model-with-Grounding-DINO/OFA-tiny\"  # path to local OFA-base directory\n",
    "tokenizer = OFATokenizer.from_pretrained(ckpt_dir)\n",
    "model = OFAModel.from_pretrained(ckpt_dir) # .to(device)\n",
    "model.eval()"
   ]
  },
  {
   "cell_type": "code",
   "execution_count": null,
   "id": "72d5fc4d",
   "metadata": {},
   "outputs": [],
   "source": [
    "coco_dataset = open(\"../instances_val2017.json\")\n",
    "coco_json = json.load(coco_dataset)\n",
    "coco_images = coco_json[\"images\"]\n",
    "coco_annotations = coco_json[\"annotations\"]\n",
    "coco_categories = coco_json[\"categories\"]\n",
    "inputs_url = []\n",
    "image_url = []\n",
    "\n",
    "category_validation_images = {}\n",
    "id_category_mapping = {}\n",
    "\n",
    "# Get mappings of id number and category name\n",
    "for category in coco_categories:\n",
    "    category_validation_images[category[\"id\"]] = []\n",
    "    id_category_mapping[category[\"id\"]] = category[\"name\"]\n",
    "\n",
    "# For each category, get all images with that category annotation\n",
    "for images in coco_images:\n",
    "    image_inputs = []\n",
    "    for anno in coco_annotations:\n",
    "        if anno[\"image_id\"] == images[\"id\"]:\n",
    "            for categories in coco_categories:\n",
    "                if anno[\"category_id\"] == categories[\"id\"]:\n",
    "                    if images not in category_validation_images[anno[\"category_id\"]]:\n",
    "                        category_validation_images[anno[\"category_id\"]].append(images)\n",
    "                        "
   ]
  },
  {
   "cell_type": "code",
   "execution_count": null,
   "id": "d764e208",
   "metadata": {},
   "outputs": [],
   "source": [
    "num_cropped_images = 2\n",
    "\n",
    "open(\"OFA_cropped_output.txt\", \"w\").close() # clear the text file\n",
    "\n",
    "# Number of validation images in the category to go through\n",
    "num_validation_images = 1\n",
    "category_ids = [20, 40, 60, 80]\n",
    "# Go through every category\n",
    "for id in category_ids:\n",
    "    # All validation images under the category\n",
    "    images = category_validation_images[id]\n",
    "    category = id_category_mapping[id]\n",
    "\n",
    "    # Go thruogh cropped images\n",
    "    for i in range(num_cropped_images):\n",
    "        # Open cropped image\n",
    "        cropped_file = f\"../input-data/cropped_objects/{category}_{i + 1}.jpg\"\n",
    "        prompt_image = Image.open(cropped_file)\n",
    "        patch_img = transform(prompt_image).unsqueeze(0)  # shape: (1, 3, H, W)\n",
    "\n",
    "        # Prepare text prompt \n",
    "        question = \" what does the image describe?\"\n",
    "        inputs = tokenizer(question, return_tensors=\"pt\").input_ids\n",
    "\n",
    "        # Generate caption \n",
    "        outputs = model.generate(\n",
    "            input_ids=inputs,\n",
    "            patch_images=patch_img,\n",
    "            patch_masks=torch.tensor([True]),\n",
    "            num_beams=5,\n",
    "            max_length=50,\n",
    "            no_repeat_ngram_size=3,\n",
    "        )\n",
    "\n",
    "        # Decode and print result \n",
    "        caption = tokenizer.batch_decode(outputs, skip_special_tokens=True)[0]\n",
    "\n",
    "        # Go through validation iamges\n",
    "        for i in range(num_validation_images):\n",
    "            with open(\"OFA_output.txt\", \"a\") as f:\n",
    "                f.write(f\"{images[i][\"coco_url\"]} || {caption} || {category} || {cropped_file}\\n\")"
   ]
  },
  {
   "cell_type": "code",
   "execution_count": null,
   "id": "7e79d922",
   "metadata": {},
   "outputs": [],
   "source": []
  }
 ],
 "metadata": {
  "language_info": {
   "name": "python"
  }
 },
 "nbformat": 4,
 "nbformat_minor": 5
}
