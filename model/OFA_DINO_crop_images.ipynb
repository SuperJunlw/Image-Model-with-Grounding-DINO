{
 "cells": [
  {
   "cell_type": "code",
   "execution_count": null,
   "id": "fe0276fa",
   "metadata": {},
   "outputs": [],
   "source": [
    "from PIL import Image\n",
    "import matplotlib.pyplot as plt\n",
    "import torch\n",
    "import json\n",
    "import requests\n",
    "import os\n",
    "import torch\n",
    "from torchvision import transforms\n",
    "from transformers import AutoProcessor, AutoModelForZeroShotObjectDetection, AutoModelForCausalLM"
   ]
  },
  {
   "cell_type": "code",
   "execution_count": null,
   "id": "f3aecdab",
   "metadata": {},
   "outputs": [],
   "source": [
    "if torch.cuda.is_available():\n",
    "    device = \"cuda\"\n",
    "elif torch.backends.mps.is_available():\n",
    "    device = \"mps\"\n",
    "else:\n",
    "    device = \"cpu\""
   ]
  },
  {
   "cell_type": "code",
   "execution_count": null,
   "id": "a9039790",
   "metadata": {},
   "outputs": [],
   "source": [
    "def plot_results(image, result, category, caption, prompt_image):\n",
    "    boxes = result[\"boxes\"]\n",
    "    scores = result[\"scores\"]\n",
    "    labels = result[\"labels\"]\n",
    "    fig, axes = plt.subplots(1, 2, figsize = (8, 4))\n",
    "    plt.axis(\"off\")\n",
    "    # Plot validation image\n",
    "    fig.suptitle(f\"Category: {category}\\nCaption: {caption}\")\n",
    "    axes[0].imshow(image)\n",
    "    axes[0].set_title(\"Validation Image\")\n",
    "    axes[0].axis(\"off\")\n",
    "    colors = plt.cm.hsv(torch.linspace(0, 1, len(boxes))).tolist()\n",
    "    \n",
    "    # Add box\n",
    "    for box, score, label, color in zip(boxes, scores, labels, colors):\n",
    "        xmin, ymin, xmax, ymax = box.tolist()\n",
    "        axes[0].add_patch(plt.Rectangle((xmin, ymin), xmax - xmin, ymax - ymin, fill = False, color = color, linewidth = 2))\n",
    "        text = f\"{label}: {score:.2f}\"\n",
    "        axes[0].text(xmin, ymin, text, bbox = dict(facecolor = \"yellow\", alpha = 0.5))\n",
    "    \n",
    "    # Plot prompt image\n",
    "    axes[1].imshow(prompt_image)\n",
    "    axes[1].set_title(\"Prompt Image\")\n",
    "    axes[1].axis(\"off\")\n",
    "\n",
    "    plt.tight_layout()\n",
    "    plt.show()"
   ]
  },
  {
   "cell_type": "code",
   "execution_count": null,
   "id": "b1062915",
   "metadata": {},
   "outputs": [],
   "source": [
    "import json\n",
    "\n",
    "# DINO\n",
    "dino_processor = AutoProcessor.from_pretrained(\"IDEA-Research/grounding-dino-tiny\")\n",
    "dino_model = AutoModelForZeroShotObjectDetection.from_pretrained(\"IDEA-Research/grounding-dino-tiny\") # .to(device)\n",
    "\n",
    "with open(\"OFA_cropped_output.txt\", \"r\") as f:\n",
    "    lines = f.readlines()\n",
    "full_results = []\n",
    "for idx, line in enumerate(lines):\n",
    "    try:\n",
    "        # Split line: \n",
    "        parts = line.strip().split(\" || \")\n",
    "        image_path, caption = parts[0], parts[1]\n",
    "        category = int(parts[2])\n",
    "        cropped_image_path = parts[3]\n",
    "\n",
    "        prompt_image = Image.open(cropped_image_path)\n",
    "\n",
    "        image = Image.open(requests.get(image_path, stream=True).raw)\n",
    "        image = image.convert('RGB')\n",
    "\n",
    "        text_labels = [[caption, \"null\"]]\n",
    "\n",
    "        # Process with DINO\n",
    "        dino_inputs = dino_processor(images=image, text=text_labels, return_tensors=\"pt\") # .to(device)\n",
    "        with torch.no_grad():\n",
    "            dino_outputs = dino_model(**dino_inputs)\n",
    "\n",
    "        # Post-process\n",
    "        results = dino_processor.post_process_grounded_object_detection(\n",
    "            dino_outputs,\n",
    "            dino_inputs.input_ids,\n",
    "            box_threshold=0.4,\n",
    "            text_threshold=0.3,\n",
    "            target_sizes=[image.size[::-1]]\n",
    "        )\n",
    "\n",
    "        # Plot output and prompt image\n",
    "        plot_results(image, results[0], category, caption, prompt_image)\n",
    "    except Exception as e:\n",
    "        print(e)"
   ]
  },
  {
   "cell_type": "code",
   "execution_count": null,
   "id": "806c8c15",
   "metadata": {},
   "outputs": [],
   "source": []
  }
 ],
 "metadata": {
  "language_info": {
   "name": "python"
  }
 },
 "nbformat": 4,
 "nbformat_minor": 5
}
