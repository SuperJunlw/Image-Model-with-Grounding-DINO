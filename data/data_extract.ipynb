{
 "cells": [
  {
   "cell_type": "code",
   "execution_count": null,
   "id": "1d49faf7",
   "metadata": {},
   "outputs": [
    {
     "ename": "SyntaxError",
     "evalue": "invalid syntax (3615517132.py, line 1)",
     "output_type": "error",
     "traceback": [
      "\u001b[0;36m  Cell \u001b[0;32mIn[1], line 1\u001b[0;36m\u001b[0m\n\u001b[0;31m    pip3 install pycocotools opencv-python\u001b[0m\n\u001b[0m         ^\u001b[0m\n\u001b[0;31mSyntaxError\u001b[0m\u001b[0;31m:\u001b[0m invalid syntax\n"
     ]
    }
   ],
   "source": [
    "# pip3 install pycocotools opencv-python #need to install that first"
   ]
  },
  {
   "cell_type": "code",
   "execution_count": 1,
   "id": "cef2e8f8",
   "metadata": {},
   "outputs": [],
   "source": [
    "import os\n",
    "import requests\n",
    "from PIL import Image\n",
    "from io import BytesIO\n",
    "from pycocotools.coco import COCO"
   ]
  },
  {
   "cell_type": "code",
   "execution_count": 2,
   "id": "f432a64d",
   "metadata": {},
   "outputs": [
    {
     "name": "stdout",
     "output_type": "stream",
     "text": [
      "loading annotations into memory...\n",
      "Done (t=4.33s)\n",
      "creating index...\n",
      "index created!\n"
     ]
    }
   ],
   "source": [
    "# Paths\n",
    "ann_file = '/Users/junwu/Documents/ECS270/Project/Image-Model-with-Grounding-DINO/instances_train2017.json'  # Local annotation JSON\n",
    "output_dir = './cropped_objects'\n",
    "os.makedirs(output_dir, exist_ok=True)\n",
    "\n",
    "# Load COCO\n",
    "coco = COCO(ann_file)\n",
    "cat_id_to_name = {cat['id']: cat['name'] for cat in coco.loadCats(coco.getCatIds())}"
   ]
  },
  {
   "cell_type": "code",
   "execution_count": 3,
   "id": "73f9ae3b",
   "metadata": {},
   "outputs": [],
   "source": [
    "# Track how many saved per category\n",
    "saved_count = {cat_id: 0 for cat_id in cat_id_to_name}\n",
    "\n",
    "max_per_category = 10\n",
    "\n",
    "# Iterate annotations\n",
    "for ann in coco.loadAnns(coco.getAnnIds()):\n",
    "    cat_id = ann['category_id']\n",
    "    if saved_count[cat_id] >= max_per_category:\n",
    "        continue  # Already have enough\n",
    "\n",
    "    x, y, w, h = map(int, ann['bbox'])\n",
    "    if w < 64 or h < 64:\n",
    "        continue  # Skip small objects\n",
    "\n",
    "    img_info = coco.loadImgs(ann['image_id'])[0]\n",
    "    url = img_info['coco_url']\n",
    "\n",
    "    try:\n",
    "        response = requests.get(url, timeout=10)\n",
    "        image = Image.open(BytesIO(response.content)).convert('RGB')\n",
    "    except:\n",
    "        continue  # Skip broken or slow links\n",
    "\n",
    "    cropped = image.crop((x, y, x + w, y + h))\n",
    "\n",
    "    label = cat_id_to_name[cat_id]\n",
    "    filename = f\"{label}_{saved_count[cat_id] + 1}.jpg\"\n",
    "    cropped.save(os.path.join(output_dir, filename))\n",
    "    saved_count[cat_id] += 1\n",
    "\n",
    "    if all(count >= max_per_category for count in saved_count.values()):\n",
    "        break  # Done for all categories"
   ]
  }
 ],
 "metadata": {
  "kernelspec": {
   "display_name": "Python 3",
   "language": "python",
   "name": "python3"
  },
  "language_info": {
   "codemirror_mode": {
    "name": "ipython",
    "version": 3
   },
   "file_extension": ".py",
   "mimetype": "text/x-python",
   "name": "python",
   "nbconvert_exporter": "python",
   "pygments_lexer": "ipython3",
   "version": "3.12.3"
  }
 },
 "nbformat": 4,
 "nbformat_minor": 5
}
