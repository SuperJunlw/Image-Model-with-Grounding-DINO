{
 "cells": [
  {
   "cell_type": "code",
   "execution_count": 6,
   "id": "96f300de",
   "metadata": {},
   "outputs": [],
   "source": [
    "import requests\n",
    "import json\n",
    "\n",
    "import torch\n",
    "from PIL import Image\n",
    "from transformers import AutoProcessor, AutoModelForZeroShotObjectDetection, AutoModelForCausalLM\n"
   ]
  },
  {
   "cell_type": "code",
   "execution_count": 51,
   "id": "dadd61a0",
   "metadata": {},
   "outputs": [],
   "source": [
    "#model used for captioning image input query\n",
    "input_processor = AutoProcessor.from_pretrained(\"microsoft/git-base-coco\")\n",
    "input_model = AutoModelForCausalLM.from_pretrained(\"microsoft/git-base-coco\").to(\"cuda\")\n",
    "#model used for object detection\n",
    "dino_processor = AutoProcessor.from_pretrained(\"IDEA-Research/grounding-dino-tiny\")\n",
    "dino_model = AutoModelForZeroShotObjectDetection.from_pretrained(\"IDEA-Research/grounding-dino-tiny\").to(\"cuda\")"
   ]
  },
  {
   "cell_type": "markdown",
   "id": "6b686cfe",
   "metadata": {},
   "source": [
    "Use below for regular use"
   ]
  },
  {
   "cell_type": "code",
   "execution_count": 55,
   "id": "e6a846b7",
   "metadata": {},
   "outputs": [],
   "source": [
    "input_url = \"input-data/cat.jpg\"\n",
    "image_url = \"http://images.cocodataset.org/val2017/000000039769.jpg\""
   ]
  },
  {
   "cell_type": "code",
   "execution_count": 56,
   "id": "cfdecee5",
   "metadata": {},
   "outputs": [
    {
     "name": "stdout",
     "output_type": "stream",
     "text": [
      "red cat sitting on a white background\n",
      "Detected red cat with confidence 0.554 at location [345.69, 23.8, 637.67, 372.95]\n"
     ]
    }
   ],
   "source": [
    "#opens the image input, and captions it\n",
    "image = Image.open(input_url)\n",
    "\n",
    "pixel_values = input_processor(images=image, return_tensors=\"pt\").pixel_values.to(\"cuda\")\n",
    "\n",
    "generated_ids = input_model.generate(pixel_values=pixel_values, max_length=50)\n",
    "generated_caption = input_processor.batch_decode(generated_ids, skip_special_tokens=True)[0]\n",
    "print(generated_caption)\n",
    "\n",
    "\n",
    "image = Image.open(requests.get(image_url, stream=True).raw)\n",
    "# Uses generated caption to detect\n",
    "text_labels = [[generated_caption, \"null\"]]\n",
    "\n",
    "inputs = dino_processor(images=image, text=text_labels, return_tensors=\"pt\").to(\"cuda\")\n",
    "with torch.no_grad():\n",
    "    outputs = dino_model(**inputs)\n",
    "\n",
    "results = dino_processor.post_process_grounded_object_detection(\n",
    "    outputs,\n",
    "    inputs.input_ids,\n",
    "    box_threshold=0.4,\n",
    "    text_threshold=0.3,\n",
    "    target_sizes=[image.size[::-1]]\n",
    ")\n",
    "\n",
    "full_results = []\n",
    "\n",
    "# Retrieve the first image result\n",
    "result = results[0]\n",
    "for box, score, labels in zip(result[\"boxes\"], result[\"scores\"], result[\"labels\"]):\n",
    "    box = [round(x, 2) for x in box.tolist()]\n",
    "    print(f\"Detected {labels} with confidence {round(score.item(), 3)} at location {box}\")\n",
    "    full_results.append(box)"
   ]
  },
  {
   "cell_type": "markdown",
   "id": "e60b747f",
   "metadata": {},
   "source": [
    "Use below for COCO evaluation."
   ]
  },
  {
   "cell_type": "code",
   "execution_count": 43,
   "id": "9178c33c",
   "metadata": {},
   "outputs": [],
   "source": [
    "coco_dataset = open(\"data/instances_val2017.json\")\n",
    "coco_json = json.load(coco_dataset)\n",
    "coco_images = coco_json[\"images\"]\n",
    "coco_annotations = coco_json[\"annotations\"]\n",
    "coco_categories = coco_json[\"categories\"]\n",
    "input_url = []\n",
    "image_url = []\n",
    "for anno in coco_annotations:\n",
    "    for images in coco_images:\n",
    "        if anno[\"image_id\"] == images[\"id\"]:\n",
    "            image_url.append(images[\"coco_url\"])\n",
    "            break\n",
    "    for categories in coco_categories:\n",
    "        if anno[\"category_id\"] == categories[\"id\"]:\n",
    "            input_url.append(\"input-data/\" + categories[\"name\"] + \".jpg\")\n",
    "            break"
   ]
  },
  {
   "cell_type": "code",
   "execution_count": 44,
   "id": "526e5c40",
   "metadata": {},
   "outputs": [
    {
     "name": "stdout",
     "output_type": "stream",
     "text": [
      "36781\n",
      "36781\n"
     ]
    }
   ],
   "source": [
    "print(len(input_url))\n",
    "print(len(image_url))"
   ]
  },
  {
   "cell_type": "code",
   "execution_count": null,
   "id": "5fa1add2",
   "metadata": {},
   "outputs": [
    {
     "name": "stdout",
     "output_type": "stream",
     "text": [
      "0.0\n",
      "1.0\n",
      "2.0\n"
     ]
    },
    {
     "ename": "FileNotFoundError",
     "evalue": "[Errno 2] No such file or directory: 'input-data/potted plant.jpg'",
     "output_type": "error",
     "traceback": [
      "\u001b[1;31m---------------------------------------------------------------------------\u001b[0m",
      "\u001b[1;31mFileNotFoundError\u001b[0m                         Traceback (most recent call last)",
      "Cell \u001b[1;32mIn[46], line 4\u001b[0m\n\u001b[0;32m      1\u001b[0m full_results \u001b[38;5;241m=\u001b[39m []\n\u001b[0;32m      2\u001b[0m \u001b[38;5;28;01mfor\u001b[39;00m x \u001b[38;5;129;01min\u001b[39;00m \u001b[38;5;28mrange\u001b[39m(\u001b[38;5;28mlen\u001b[39m(input_url)):\n\u001b[0;32m      3\u001b[0m     \u001b[38;5;66;03m#opens the image input, and captions it\u001b[39;00m\n\u001b[1;32m----> 4\u001b[0m     image \u001b[38;5;241m=\u001b[39m Image\u001b[38;5;241m.\u001b[39mopen(input_url[x])\n\u001b[0;32m      6\u001b[0m     pixel_values \u001b[38;5;241m=\u001b[39m input_processor(images\u001b[38;5;241m=\u001b[39mimage, return_tensors\u001b[38;5;241m=\u001b[39m\u001b[38;5;124m\"\u001b[39m\u001b[38;5;124mpt\u001b[39m\u001b[38;5;124m\"\u001b[39m)\u001b[38;5;241m.\u001b[39mpixel_values\n\u001b[0;32m      8\u001b[0m     generated_ids \u001b[38;5;241m=\u001b[39m input_model\u001b[38;5;241m.\u001b[39mgenerate(pixel_values\u001b[38;5;241m=\u001b[39mpixel_values, max_length\u001b[38;5;241m=\u001b[39m\u001b[38;5;241m50\u001b[39m)\n",
      "File \u001b[1;32mc:\\Users\\Aaron Nguyen\\anaconda3\\Lib\\site-packages\\PIL\\Image.py:3227\u001b[0m, in \u001b[0;36mopen\u001b[1;34m(fp, mode, formats)\u001b[0m\n\u001b[0;32m   3224\u001b[0m     filename \u001b[38;5;241m=\u001b[39m fp\n\u001b[0;32m   3226\u001b[0m \u001b[38;5;28;01mif\u001b[39;00m filename:\n\u001b[1;32m-> 3227\u001b[0m     fp \u001b[38;5;241m=\u001b[39m builtins\u001b[38;5;241m.\u001b[39mopen(filename, \u001b[38;5;124m\"\u001b[39m\u001b[38;5;124mrb\u001b[39m\u001b[38;5;124m\"\u001b[39m)\n\u001b[0;32m   3228\u001b[0m     exclusive_fp \u001b[38;5;241m=\u001b[39m \u001b[38;5;28;01mTrue\u001b[39;00m\n\u001b[0;32m   3230\u001b[0m \u001b[38;5;28;01mtry\u001b[39;00m:\n",
      "\u001b[1;31mFileNotFoundError\u001b[0m: [Errno 2] No such file or directory: 'input-data/potted plant.jpg'"
     ]
    }
   ],
   "source": [
    "full_results = []\n",
    "for x in range(len(input_url)):\n",
    "    #opens the image input, and captions it\n",
    "    image = Image.open(input_url[x])\n",
    "\n",
    "    pixel_values = input_processor(images=image, return_tensors=\"pt\").pixel_values.to(\"cuda\")\n",
    "\n",
    "    generated_ids = input_model.generate(pixel_values=pixel_values, max_length=50)\n",
    "    generated_caption = input_processor.batch_decode(generated_ids, skip_special_tokens=True)[0]\n",
    "\n",
    "\n",
    "    image = Image.open(requests.get(image_url[x], stream=True).raw)\n",
    "    # Uses generated caption to detect\n",
    "    text_labels = [[generated_caption, \"null\"]]\n",
    "\n",
    "    inputs = dino_processor(images=image, text=text_labels, return_tensors=\"pt\").to(\"cuda\")\n",
    "    with torch.no_grad():\n",
    "        outputs = dino_model(**inputs)\n",
    "\n",
    "    results = dino_processor.post_process_grounded_object_detection(\n",
    "        outputs,\n",
    "        inputs.input_ids,\n",
    "        box_threshold=0.4,\n",
    "        text_threshold=0.3,\n",
    "        target_sizes=[image.size[::-1]]\n",
    "    )\n",
    "\n",
    "\n",
    "    # Retrieve the first image result\n",
    "    result = results[0]\n",
    "    for box, score, labels in zip(result[\"boxes\"], result[\"scores\"], result[\"labels\"]):\n",
    "        box = [round(x, 2) for x in box.tolist()]\n",
    "    formatted_results = {\n",
    "        \"image_id\": coco_annotations[x][\"image_id\"],\n",
    "        \"category_id\": coco_annotations[x][\"category_id\"],\n",
    "        \"bbox\": box,\n",
    "        \"score\": round(score.item(), 3)\n",
    "    }\n",
    "    if x%10 == 0:\n",
    "        print(x/10)\n",
    "    full_results.append(formatted_results)\n",
    "full_results = json.dumps(full_results)"
   ]
  },
  {
   "cell_type": "code",
   "execution_count": null,
   "id": "c64c53ca",
   "metadata": {},
   "outputs": [],
   "source": [
    "with open(\"results.json\", \"w\") as f:\n",
    "  f.write(full_results)"
   ]
  }
 ],
 "metadata": {
  "kernelspec": {
   "display_name": "base",
   "language": "python",
   "name": "python3"
  },
  "language_info": {
   "codemirror_mode": {
    "name": "ipython",
    "version": 3
   },
   "file_extension": ".py",
   "mimetype": "text/x-python",
   "name": "python",
   "nbconvert_exporter": "python",
   "pygments_lexer": "ipython3",
   "version": "3.11.5"
  }
 },
 "nbformat": 4,
 "nbformat_minor": 5
}
