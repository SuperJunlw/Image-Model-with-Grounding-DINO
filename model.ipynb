{
 "cells": [
  {
   "cell_type": "code",
   "execution_count": 6,
   "id": "96f300de",
   "metadata": {},
   "outputs": [],
   "source": [
    "import requests\n",
    "import json\n",
    "\n",
    "import torch\n",
    "from PIL import Image\n",
    "from transformers import AutoProcessor, AutoModelForZeroShotObjectDetection, AutoModelForCausalLM\n"
   ]
  },
  {
   "cell_type": "code",
   "execution_count": 51,
   "id": "dadd61a0",
   "metadata": {},
   "outputs": [],
   "source": [
    "#model used for captioning image input query\n",
    "input_processor = AutoProcessor.from_pretrained(\"microsoft/git-base-coco\")\n",
    "input_model = AutoModelForCausalLM.from_pretrained(\"microsoft/git-base-coco\").to(\"cuda\")\n",
    "#model used for object detection\n",
    "dino_processor = AutoProcessor.from_pretrained(\"IDEA-Research/grounding-dino-tiny\")\n",
    "dino_model = AutoModelForZeroShotObjectDetection.from_pretrained(\"IDEA-Research/grounding-dino-tiny\").to(\"cuda\")"
   ]
  },
  {
   "cell_type": "markdown",
   "id": "6b686cfe",
   "metadata": {},
   "source": [
    "Use below for regular use"
   ]
  },
  {
   "cell_type": "code",
   "execution_count": 55,
   "id": "e6a846b7",
   "metadata": {},
   "outputs": [],
   "source": [
    "input_url = \"input-data/cat.jpg\"\n",
    "image_url = \"http://images.cocodataset.org/val2017/000000039769.jpg\""
   ]
  },
  {
   "cell_type": "code",
   "execution_count": 56,
   "id": "cfdecee5",
   "metadata": {},
   "outputs": [
    {
     "name": "stdout",
     "output_type": "stream",
     "text": [
      "red cat sitting on a white background\n",
      "Detected red cat with confidence 0.554 at location [345.69, 23.8, 637.67, 372.95]\n"
     ]
    }
   ],
   "source": [
    "#opens the image input, and captions it\n",
    "image = Image.open(input_url)\n",
    "\n",
    "pixel_values = input_processor(images=image, return_tensors=\"pt\").pixel_values.to(\"cuda\")\n",
    "\n",
    "generated_ids = input_model.generate(pixel_values=pixel_values, max_length=50)\n",
    "generated_caption = input_processor.batch_decode(generated_ids, skip_special_tokens=True)[0]\n",
    "print(generated_caption)\n",
    "\n",
    "\n",
    "image = Image.open(requests.get(image_url, stream=True).raw)\n",
    "# Uses generated caption to detect\n",
    "text_labels = [[generated_caption, \"null\"]]\n",
    "\n",
    "inputs = dino_processor(images=image, text=text_labels, return_tensors=\"pt\").to(\"cuda\")\n",
    "with torch.no_grad():\n",
    "    outputs = dino_model(**inputs)\n",
    "\n",
    "results = dino_processor.post_process_grounded_object_detection(\n",
    "    outputs,\n",
    "    inputs.input_ids,\n",
    "    box_threshold=0.4,\n",
    "    text_threshold=0.3,\n",
    "    target_sizes=[image.size[::-1]]\n",
    ")\n",
    "\n",
    "full_results = []\n",
    "\n",
    "# Retrieve the first image result\n",
    "result = results[0]\n",
    "for box, score, labels in zip(result[\"boxes\"], result[\"scores\"], result[\"labels\"]):\n",
    "    box = [round(x, 2) for x in box.tolist()]\n",
    "    print(f\"Detected {labels} with confidence {round(score.item(), 3)} at location {box}\")\n",
    "    full_results.append(box)"
   ]
  },
  {
   "cell_type": "markdown",
   "id": "e60b747f",
   "metadata": {},
   "source": [
    "Use below for COCO evaluation."
   ]
  },
  {
   "cell_type": "code",
   "execution_count": 57,
   "id": "9178c33c",
   "metadata": {},
   "outputs": [],
   "source": [
    "coco_dataset = open(\"data/instances_val2017.json\")\n",
    "coco_json = json.load(coco_dataset)\n",
    "coco_images = coco_json[\"images\"]\n",
    "coco_annotations = coco_json[\"annotations\"]\n",
    "coco_categories = coco_json[\"categories\"]\n",
    "input_url = []\n",
    "image_url = []\n",
    "for anno in coco_annotations:\n",
    "    for images in coco_images:\n",
    "        if anno[\"image_id\"] == images[\"id\"]:\n",
    "            image_url.append(images[\"coco_url\"])\n",
    "            break\n",
    "    for categories in coco_categories:\n",
    "        if anno[\"category_id\"] == categories[\"id\"]:\n",
    "            input_url.append(\"input-data/\" + categories[\"name\"] + \".jpg\")\n",
    "            break"
   ]
  },
  {
   "cell_type": "code",
   "execution_count": 58,
   "id": "526e5c40",
   "metadata": {},
   "outputs": [
    {
     "name": "stdout",
     "output_type": "stream",
     "text": [
      "36781\n",
      "36781\n"
     ]
    }
   ],
   "source": [
    "print(len(input_url))\n",
    "print(len(image_url))"
   ]
  },
  {
   "cell_type": "code",
   "execution_count": null,
   "id": "5fa1add2",
   "metadata": {},
   "outputs": [
    {
     "ename": "TypeError",
     "evalue": "unsupported operand type(s) for +: 'int' and 'str'",
     "output_type": "error",
     "traceback": [
      "\u001b[1;31m---------------------------------------------------------------------------\u001b[0m",
      "\u001b[1;31mTypeError\u001b[0m                                 Traceback (most recent call last)",
      "Cell \u001b[1;32mIn[61], line 40\u001b[0m\n\u001b[0;32m     33\u001b[0m     formatted_results \u001b[38;5;241m=\u001b[39m {\n\u001b[0;32m     34\u001b[0m         \u001b[38;5;124m\"\u001b[39m\u001b[38;5;124mimage_id\u001b[39m\u001b[38;5;124m\"\u001b[39m: coco_annotations[x][\u001b[38;5;124m\"\u001b[39m\u001b[38;5;124mimage_id\u001b[39m\u001b[38;5;124m\"\u001b[39m],\n\u001b[0;32m     35\u001b[0m         \u001b[38;5;124m\"\u001b[39m\u001b[38;5;124mcategory_id\u001b[39m\u001b[38;5;124m\"\u001b[39m: coco_annotations[x][\u001b[38;5;124m\"\u001b[39m\u001b[38;5;124mcategory_id\u001b[39m\u001b[38;5;124m\"\u001b[39m],\n\u001b[0;32m     36\u001b[0m         \u001b[38;5;124m\"\u001b[39m\u001b[38;5;124mbbox\u001b[39m\u001b[38;5;124m\"\u001b[39m: box,\n\u001b[0;32m     37\u001b[0m         \u001b[38;5;124m\"\u001b[39m\u001b[38;5;124mscore\u001b[39m\u001b[38;5;124m\"\u001b[39m: \u001b[38;5;28mround\u001b[39m(score\u001b[38;5;241m.\u001b[39mitem(), \u001b[38;5;241m3\u001b[39m)\n\u001b[0;32m     38\u001b[0m     }\n\u001b[0;32m     39\u001b[0m     \u001b[38;5;28;01mif\u001b[39;00m x\u001b[38;5;241m%\u001b[39m\u001b[38;5;241m10\u001b[39m \u001b[38;5;241m==\u001b[39m \u001b[38;5;241m0\u001b[39m:\n\u001b[1;32m---> 40\u001b[0m         \u001b[38;5;28mprint\u001b[39m(x \u001b[38;5;241m+\u001b[39m \u001b[38;5;124m\"\u001b[39m\u001b[38;5;124m out of \u001b[39m\u001b[38;5;124m\"\u001b[39m \u001b[38;5;241m+\u001b[39m \u001b[38;5;28mstr\u001b[39m(\u001b[38;5;28mlen\u001b[39m(image_url)))\n\u001b[0;32m     41\u001b[0m     full_results\u001b[38;5;241m.\u001b[39mappend(formatted_results)\n\u001b[0;32m     42\u001b[0m full_results \u001b[38;5;241m=\u001b[39m json\u001b[38;5;241m.\u001b[39mdumps(full_results)\n",
      "\u001b[1;31mTypeError\u001b[0m: unsupported operand type(s) for +: 'int' and 'str'"
     ]
    }
   ],
   "source": [
    "full_results = []\n",
    "for x in range(len(input_url)):\n",
    "    #opens the image input, and captions it\n",
    "    image = Image.open(input_url[x])\n",
    "\n",
    "    pixel_values = input_processor(images=image, return_tensors=\"pt\").pixel_values.to(\"cuda\")\n",
    "\n",
    "    generated_ids = input_model.generate(pixel_values=pixel_values, max_length=50)\n",
    "    generated_caption = input_processor.batch_decode(generated_ids, skip_special_tokens=True)[0]\n",
    "\n",
    "\n",
    "    image = Image.open(requests.get(image_url[x], stream=True).raw)\n",
    "    # Uses generated caption to detect\n",
    "    text_labels = [[generated_caption, \"null\"]]\n",
    "\n",
    "    inputs = dino_processor(images=image, text=text_labels, return_tensors=\"pt\").to(\"cuda\")\n",
    "    with torch.no_grad():\n",
    "        outputs = dino_model(**inputs)\n",
    "\n",
    "    results = dino_processor.post_process_grounded_object_detection(\n",
    "        outputs,\n",
    "        inputs.input_ids,\n",
    "        box_threshold=0.4,\n",
    "        text_threshold=0.3,\n",
    "        target_sizes=[image.size[::-1]]\n",
    "    )\n",
    "\n",
    "\n",
    "    # Retrieve the first image result\n",
    "    result = results[0]\n",
    "    for box, score, labels in zip(result[\"boxes\"], result[\"scores\"], result[\"labels\"]):\n",
    "        box = [round(x, 2) for x in box.tolist()]\n",
    "    formatted_results = {\n",
    "        \"image_id\": coco_annotations[x][\"image_id\"],\n",
    "        \"category_id\": coco_annotations[x][\"category_id\"],\n",
    "        \"bbox\": box,\n",
    "        \"score\": round(score.item(), 3)\n",
    "    }\n",
    "    if x%10 == 0:\n",
    "        print(str(x) + \" out of \" + str(len(image_url)))\n",
    "    full_results.append(formatted_results)\n",
    "full_results = json.dumps(full_results)"
   ]
  },
  {
   "cell_type": "code",
   "execution_count": null,
   "id": "c64c53ca",
   "metadata": {},
   "outputs": [],
   "source": [
    "with open(\"results.json\", \"w\") as f:\n",
    "  f.write(full_results)"
   ]
  }
 ],
 "metadata": {
  "kernelspec": {
   "display_name": "base",
   "language": "python",
   "name": "python3"
  },
  "language_info": {
   "codemirror_mode": {
    "name": "ipython",
    "version": 3
   },
   "file_extension": ".py",
   "mimetype": "text/x-python",
   "name": "python",
   "nbconvert_exporter": "python",
   "pygments_lexer": "ipython3",
   "version": "3.11.5"
  }
 },
 "nbformat": 4,
 "nbformat_minor": 5
}
