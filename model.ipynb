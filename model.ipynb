{
 "cells": [
  {
   "cell_type": "code",
   "execution_count": 14,
   "id": "96f300de",
   "metadata": {},
   "outputs": [],
   "source": [
    "import requests\n",
    "\n",
    "import torch\n",
    "from PIL import Image\n",
    "from transformers import AutoProcessor, AutoModelForZeroShotObjectDetection, AutoModelForCausalLM\n"
   ]
  },
  {
   "cell_type": "code",
   "execution_count": null,
   "id": "dadd61a0",
   "metadata": {},
   "outputs": [],
   "source": [
    "#model used for captioning image input query\n",
    "input_processor = AutoProcessor.from_pretrained(\"microsoft/git-base-coco\")\n",
    "input_model = AutoModelForCausalLM.from_pretrained(\"microsoft/git-base-coco\")\n",
    "#model used for object detection\n",
    "dino_processor = AutoProcessor.from_pretrained(\"IDEA-Research/grounding-dino-tiny\")\n",
    "dino_model = AutoModelForZeroShotObjectDetection.from_pretrained(\"IDEA-Research/grounding-dino-tiny\").to(\"cuda\")"
   ]
  },
  {
   "cell_type": "code",
   "execution_count": 16,
   "id": "e6a846b7",
   "metadata": {},
   "outputs": [],
   "source": [
    "input_url = \"input-data/cat.jpg\"\n",
    "image_url = \"http://images.cocodataset.org/val2017/000000039769.jpg\""
   ]
  },
  {
   "cell_type": "code",
   "execution_count": 17,
   "id": "cfdecee5",
   "metadata": {},
   "outputs": [
    {
     "name": "stdout",
     "output_type": "stream",
     "text": [
      "red cat sitting on a white background\n",
      "Detected red cat with confidence 0.554 at location [345.69, 23.8, 637.67, 372.95]\n"
     ]
    }
   ],
   "source": [
    "#opens the image input, and captions it\n",
    "image = Image.open(input_url)\n",
    "\n",
    "pixel_values = input_processor(images=image, return_tensors=\"pt\").pixel_values\n",
    "\n",
    "generated_ids = input_model.generate(pixel_values=pixel_values, max_length=50)\n",
    "generated_caption = input_processor.batch_decode(generated_ids, skip_special_tokens=True)[0]\n",
    "print(generated_caption)\n",
    "\n",
    "\n",
    "image = Image.open(requests.get(image_url, stream=True).raw)\n",
    "# Uses generated caption to detect\n",
    "text_labels = [[generated_caption, \"null\"]]\n",
    "\n",
    "inputs = dino_processor(images=image, text=text_labels, return_tensors=\"pt\").to(\"cuda\")\n",
    "with torch.no_grad():\n",
    "    outputs = dino_model(**inputs)\n",
    "\n",
    "results = dino_processor.post_process_grounded_object_detection(\n",
    "    outputs,\n",
    "    inputs.input_ids,\n",
    "    box_threshold=0.4,\n",
    "    text_threshold=0.3,\n",
    "    target_sizes=[image.size[::-1]]\n",
    ")\n",
    "\n",
    "# Retrieve the first image result\n",
    "result = results[0]\n",
    "for box, score, labels in zip(result[\"boxes\"], result[\"scores\"], result[\"labels\"]):\n",
    "    box = [round(x, 2) for x in box.tolist()]\n",
    "    print(f\"Detected {labels} with confidence {round(score.item(), 3)} at location {box}\")"
   ]
  }
 ],
 "metadata": {
  "kernelspec": {
   "display_name": "base",
   "language": "python",
   "name": "python3"
  },
  "language_info": {
   "codemirror_mode": {
    "name": "ipython",
    "version": 3
   },
   "file_extension": ".py",
   "mimetype": "text/x-python",
   "name": "python",
   "nbconvert_exporter": "python",
   "pygments_lexer": "ipython3",
   "version": "3.11.5"
  }
 },
 "nbformat": 4,
 "nbformat_minor": 5
}
